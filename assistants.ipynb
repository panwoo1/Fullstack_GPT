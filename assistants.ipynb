{
 "cells": [
  {
   "cell_type": "code",
   "execution_count": 16,
   "metadata": {},
   "outputs": [
    {
     "data": {
      "text/plain": [
       "'\"{\\\\\"1696032000000\\\\\":{\\\\\"Tax Effect Of Unusual Items\\\\\":0.0,\\\\\"Tax Rate For Calcs\\\\\":0.147,\\\\\"Normalized EBITDA\\\\\":129188000000.0,\\\\\"Net Income From Continuing Operation Net Minority Interest\\\\\":96995000000.0,\\\\\"Reconciled Depreciation\\\\\":11519000000.0,\\\\\"Reconciled Cost Of Revenue\\\\\":214137000000.0,\\\\\"EBITDA\\\\\":129188000000.0,\\\\\"EBIT\\\\\":117669000000.0,\\\\\"Net Interest Income\\\\\":-183000000.0,\\\\\"Interest Expense\\\\\":3933000000.0,\\\\\"Interest Income\\\\\":3750000000.0,\\\\\"Normalized Income\\\\\":96995000000.0,\\\\\"Net Income From Continuing And Discontinued Operation\\\\\":96995000000.0,\\\\\"Total Expenses\\\\\":268984000000.0,\\\\\"Total Operating Income As Reported\\\\\":114301000000.0,\\\\\"Diluted Average Shares\\\\\":15812547000.0,\\\\\"Basic Average Shares\\\\\":15744231000.0,\\\\\"Diluted EPS\\\\\":6.13,\\\\\"Basic EPS\\\\\":6.16,\\\\\"Diluted NI Availto Com Stockholders\\\\\":96995000000.0,\\\\\"Net Income Common Stockholders\\\\\":96995000000.0,\\\\\"Net Income\\\\\":96995000000.0,\\\\\"Net Income Including Noncontrolling Interests\\\\\":96995000000.0,\\\\\"Net Income Continuous Operations\\\\\":96995000000.0,\\\\\"Tax Provision\\\\\":16741000000.0,\\\\\"Pretax Income\\\\\":113736000000.0,\\\\\"Other Income Expense\\\\\":-382000000.0,\\\\\"Other Non Operating Income Expenses\\\\\":-382000000.0,\\\\\"Net Non Operating Interest Income Expense\\\\\":-183000000.0,\\\\\"Interest Expense Non Operating\\\\\":3933000000.0,\\\\\"Interest Income Non Operating\\\\\":3750000000.0,\\\\\"Operating Income\\\\\":114301000000.0,\\\\\"Operating Expense\\\\\":54847000000.0,\\\\\"Research And Development\\\\\":29915000000.0,\\\\\"Selling General And Administration\\\\\":24932000000.0,\\\\\"Gross Profit\\\\\":169148000000.0,\\\\\"Cost Of Revenue\\\\\":214137000000.0,\\\\\"Total Revenue\\\\\":383285000000.0,\\\\\"Operating Revenue\\\\\":383285000000.0},\\\\\"1664496000000\\\\\":{\\\\\"Tax Effect Of Unusual Items\\\\\":0.0,\\\\\"Tax Rate For Calcs\\\\\":0.162,\\\\\"Normalized EBITDA\\\\\":133138000000.0,\\\\\"Net Income From Continuing Operation Net Minority Interest\\\\\":99803000000.0,\\\\\"Reconciled Depreciation\\\\\":11104000000.0,\\\\\"Reconciled Cost Of Revenue\\\\\":223546000000.0,\\\\\"EBITDA\\\\\":133138000000.0,\\\\\"EBIT\\\\\":122034000000.0,\\\\\"Net Interest Income\\\\\":-106000000.0,\\\\\"Interest Expense\\\\\":2931000000.0,\\\\\"Interest Income\\\\\":2825000000.0,\\\\\"Normalized Income\\\\\":99803000000.0,\\\\\"Net Income From Continuing And Discontinued Operation\\\\\":99803000000.0,\\\\\"Total Expenses\\\\\":274891000000.0,\\\\\"Total Operating Income As Reported\\\\\":119437000000.0,\\\\\"Diluted Average Shares\\\\\":16325819000.0,\\\\\"Basic Average Shares\\\\\":16215963000.0,\\\\\"Diluted EPS\\\\\":6.11,\\\\\"Basic EPS\\\\\":6.15,\\\\\"Diluted NI Availto Com Stockholders\\\\\":99803000000.0,\\\\\"Net Income Common Stockholders\\\\\":99803000000.0,\\\\\"Net Income\\\\\":99803000000.0,\\\\\"Net Income Including Noncontrolling Interests\\\\\":99803000000.0,\\\\\"Net Income Continuous Operations\\\\\":99803000000.0,\\\\\"Tax Provision\\\\\":19300000000.0,\\\\\"Pretax Income\\\\\":119103000000.0,\\\\\"Other Income Expense\\\\\":-228000000.0,\\\\\"Other Non Operating Income Expenses\\\\\":-228000000.0,\\\\\"Net Non Operating Interest Income Expense\\\\\":-106000000.0,\\\\\"Interest Expense Non Operating\\\\\":2931000000.0,\\\\\"Interest Income Non Operating\\\\\":2825000000.0,\\\\\"Operating Income\\\\\":119437000000.0,\\\\\"Operating Expense\\\\\":51345000000.0,\\\\\"Research And Development\\\\\":26251000000.0,\\\\\"Selling General And Administration\\\\\":25094000000.0,\\\\\"Gross Profit\\\\\":170782000000.0,\\\\\"Cost Of Revenue\\\\\":223546000000.0,\\\\\"Total Revenue\\\\\":394328000000.0,\\\\\"Operating Revenue\\\\\":394328000000.0},\\\\\"1632960000000\\\\\":{\\\\\"Tax Effect Of Unusual Items\\\\\":0.0,\\\\\"Tax Rate For Calcs\\\\\":0.133,\\\\\"Normalized EBITDA\\\\\":123136000000.0,\\\\\"Net Income From Continuing Operation Net Minority Interest\\\\\":94680000000.0,\\\\\"Reconciled Depreciation\\\\\":11284000000.0,\\\\\"Reconciled Cost Of Revenue\\\\\":212981000000.0,\\\\\"EBITDA\\\\\":123136000000.0,\\\\\"EBIT\\\\\":111852000000.0,\\\\\"Net Interest Income\\\\\":198000000.0,\\\\\"Interest Expense\\\\\":2645000000.0,\\\\\"Interest Income\\\\\":2843000000.0,\\\\\"Normalized Income\\\\\":94680000000.0,\\\\\"Net Income From Continuing And Discontinued Operation\\\\\":94680000000.0,\\\\\"Total Expenses\\\\\":256868000000.0,\\\\\"Total Operating Income As Reported\\\\\":108949000000.0,\\\\\"Diluted Average Shares\\\\\":16864919000.0,\\\\\"Basic Average Shares\\\\\":16701272000.0,\\\\\"Diluted EPS\\\\\":5.61,\\\\\"Basic EPS\\\\\":5.67,\\\\\"Diluted NI Availto Com Stockholders\\\\\":94680000000.0,\\\\\"Net Income Common Stockholders\\\\\":94680000000.0,\\\\\"Net Income\\\\\":94680000000.0,\\\\\"Net Income Including Noncontrolling Interests\\\\\":94680000000.0,\\\\\"Net Income Continuous Operations\\\\\":94680000000.0,\\\\\"Tax Provision\\\\\":14527000000.0,\\\\\"Pretax Income\\\\\":109207000000.0,\\\\\"Other Income Expense\\\\\":60000000.0,\\\\\"Other Non Operating Income Expenses\\\\\":60000000.0,\\\\\"Net Non Operating Interest Income Expense\\\\\":198000000.0,\\\\\"Interest Expense Non Operating\\\\\":2645000000.0,\\\\\"Interest Income Non Operating\\\\\":2843000000.0,\\\\\"Operating Income\\\\\":108949000000.0,\\\\\"Operating Expense\\\\\":43887000000.0,\\\\\"Research And Development\\\\\":21914000000.0,\\\\\"Selling General And Administration\\\\\":21973000000.0,\\\\\"Gross Profit\\\\\":152836000000.0,\\\\\"Cost Of Revenue\\\\\":212981000000.0,\\\\\"Total Revenue\\\\\":365817000000.0,\\\\\"Operating Revenue\\\\\":365817000000.0},\\\\\"1601424000000\\\\\":{\\\\\"Tax Effect Of Unusual Items\\\\\":0.0,\\\\\"Tax Rate For Calcs\\\\\":0.144,\\\\\"Normalized EBITDA\\\\\":81020000000.0,\\\\\"Net Income From Continuing Operation Net Minority Interest\\\\\":57411000000.0,\\\\\"Reconciled Depreciation\\\\\":11056000000.0,\\\\\"Reconciled Cost Of Revenue\\\\\":169559000000.0,\\\\\"EBITDA\\\\\":81020000000.0,\\\\\"EBIT\\\\\":69964000000.0,\\\\\"Net Interest Income\\\\\":890000000.0,\\\\\"Interest Expense\\\\\":2873000000.0,\\\\\"Interest Income\\\\\":3763000000.0,\\\\\"Normalized Income\\\\\":57411000000.0,\\\\\"Net Income From Continuing And Discontinued Operation\\\\\":57411000000.0,\\\\\"Total Expenses\\\\\":208227000000.0,\\\\\"Total Operating Income As Reported\\\\\":66288000000.0,\\\\\"Diluted Average Shares\\\\\":17528214000.0,\\\\\"Basic Average Shares\\\\\":17352119000.0,\\\\\"Diluted EPS\\\\\":3.28,\\\\\"Basic EPS\\\\\":3.31,\\\\\"Diluted NI Availto Com Stockholders\\\\\":57411000000.0,\\\\\"Net Income Common Stockholders\\\\\":57411000000.0,\\\\\"Net Income\\\\\":57411000000.0,\\\\\"Net Income Including Noncontrolling Interests\\\\\":57411000000.0,\\\\\"Net Income Continuous Operations\\\\\":57411000000.0,\\\\\"Tax Provision\\\\\":9680000000.0,\\\\\"Pretax Income\\\\\":67091000000.0,\\\\\"Other Income Expense\\\\\":-87000000.0,\\\\\"Other Non Operating Income Expenses\\\\\":-87000000.0,\\\\\"Net Non Operating Interest Income Expense\\\\\":890000000.0,\\\\\"Interest Expense Non Operating\\\\\":2873000000.0,\\\\\"Interest Income Non Operating\\\\\":3763000000.0,\\\\\"Operating Income\\\\\":66288000000.0,\\\\\"Operating Expense\\\\\":38668000000.0,\\\\\"Research And Development\\\\\":18752000000.0,\\\\\"Selling General And Administration\\\\\":19916000000.0,\\\\\"Gross Profit\\\\\":104956000000.0,\\\\\"Cost Of Revenue\\\\\":169559000000.0,\\\\\"Total Revenue\\\\\":274515000000.0,\\\\\"Operating Revenue\\\\\":274515000000.0}}\"'"
      ]
     },
     "execution_count": 16,
     "metadata": {},
     "output_type": "execute_result"
    }
   ],
   "source": [
    "from langchain.utilities.duckduckgo_search import DuckDuckGoSearchAPIWrapper\n",
    "import yfinance\n",
    "import json\n",
    "\n",
    "def get_ticker(inputs):\n",
    "    ddg = DuckDuckGoSearchAPIWrapper()\n",
    "    company_name = inputs[\"company_name\"]\n",
    "    return ddg.run(f\"Ticker symbol of {company_name}\")\n",
    "\n",
    "def get_income_statement(inputs):\n",
    "    ticker = inputs['ticker']\n",
    "    stock = yfinance.Ticker(ticker)\n",
    "    return json.dumps(stock.income_stmt.to_json())\n",
    "\n",
    "def get_balance_sheet(inputs):\n",
    "    ticker = inputs['ticker']\n",
    "    stock = yfinance.Ticker(ticker)\n",
    "    return json.dumps(stock.balance_sheet.to_json())\n",
    "\n",
    "def get_daily_stock_performance(inputs):\n",
    "    ticker = inputs['ticker']\n",
    "    stock = yfinance.Ticker(ticker)\n",
    "    return json.dumps(stock.history(period=\"3mo\").to_json())\n",
    "\n",
    "\n",
    "\n",
    "functions = [\n",
    "    {\n",
    "        \"type\": \"function\",\n",
    "        \"function\": {\n",
    "            \"name\": \"get_ticker\",\n",
    "            \"description\": \"Given the name of a company returns its ticker symbol\",\n",
    "            \"parameters\": {\n",
    "                \"type\": \"object\",\n",
    "                \"properties\": {\n",
    "                    \"company_name\": {\n",
    "                        \"type\": \"string\",\n",
    "                        \"description\": \"The name of the company\",\n",
    "                    }\n",
    "                },\n",
    "                \"required\": [\"company_name\"],\n",
    "            },\n",
    "        },\n",
    "    },\n",
    "    {\n",
    "        \"type\": \"function\",\n",
    "        \"function\": {\n",
    "            \"name\": \"get_income_statement\",\n",
    "            \"description\": \"Given a ticker symbol (i.e AAPL) returns the company's income statement.\",\n",
    "            \"parameters\": {\n",
    "                \"type\": \"object\",\n",
    "                \"properties\": {\n",
    "                    \"ticker\": {\n",
    "                        \"type\": \"string\",\n",
    "                        \"description\": \"Ticker symbol of the company\",\n",
    "                    },\n",
    "                },\n",
    "                \"required\": [\"ticker\"],\n",
    "            },\n",
    "        },\n",
    "    },\n",
    "    {\n",
    "        \"type\": \"function\",\n",
    "        \"function\": {\n",
    "            \"name\": \"get_balance_sheet\",\n",
    "            \"description\": \"Given a ticker symbol (i.e AAPL) returns the company's balance sheet.\",\n",
    "            \"parameters\": {\n",
    "                \"type\": \"object\",\n",
    "                \"properties\": {\n",
    "                    \"ticker\": {\n",
    "                        \"type\": \"string\",\n",
    "                        \"description\": \"Ticker symbol of the company\",\n",
    "                    },\n",
    "                },\n",
    "                \"required\": [\"ticker\"],\n",
    "            },\n",
    "        },\n",
    "    },\n",
    "    {\n",
    "        \"type\": \"function\",\n",
    "        \"function\": {\n",
    "            \"name\": \"get_daily_stock_performance\",\n",
    "            \"description\": \"Given a ticker symbol (i.e AAPL) returns the performance of the stock for the last 100 days.\",\n",
    "            \"parameters\": {\n",
    "                \"type\": \"object\",\n",
    "                \"properties\": {\n",
    "                    \"ticker\": {\n",
    "                        \"type\": \"string\",\n",
    "                        \"description\": \"Ticker symbol of the company\",\n",
    "                    },\n",
    "                },\n",
    "                \"required\": [\"ticker\"],\n",
    "            },\n",
    "        },\n",
    "    },\n",
    "]\n",
    "\n",
    "get_income_statement({\"ticker\":\"AAPL\"})"
   ]
  },
  {
   "cell_type": "code",
   "execution_count": 17,
   "metadata": {},
   "outputs": [
    {
     "data": {
      "text/plain": [
       "Assistant(id='asst_ppWb4ZfrBK2ZnpiP90jdBdsb', created_at=1707313209, description='You help users do research on publicy traded companies and you help users decide if they should buy the stock or not.', file_ids=[], instructions=None, metadata={}, model='gpt-3.5-turbo-1106', name='Investor Assistant', object='assistant', tools=[ToolFunction(function=FunctionDefinition(name='get_ticker', description='Given the name of a company returns its ticker symbol', parameters={'type': 'object', 'properties': {'company_name': {'type': 'string', 'description': 'The name of the company'}}, 'required': ['company_name']}), type='function'), ToolFunction(function=FunctionDefinition(name='get_income_statement', description=\"Given a ticker symbol (i.e AAPL) returns the company's income statement.\", parameters={'type': 'object', 'properties': {'ticker': {'type': 'string', 'description': 'Ticker symbol of the company'}}, 'required': ['ticker']}), type='function'), ToolFunction(function=FunctionDefinition(name='get_balance_sheet', description=\"Given a ticker symbol (i.e AAPL) returns the company's balance sheet.\", parameters={'type': 'object', 'properties': {'ticker': {'type': 'string', 'description': 'Ticker symbol of the company'}}, 'required': ['ticker']}), type='function'), ToolFunction(function=FunctionDefinition(name='get_daily_stock_performance', description='Given a ticker symbol (i.e AAPL) returns the performance of the stock for the last 100 days.', parameters={'type': 'object', 'properties': {'ticker': {'type': 'string', 'description': 'Ticker symbol of the company'}}, 'required': ['ticker']}), type='function')])"
      ]
     },
     "execution_count": 17,
     "metadata": {},
     "output_type": "execute_result"
    }
   ],
   "source": [
    "import openai as client\n",
    "\n",
    "assistant = client.beta.assistants.create(\n",
    "    name=\"Investor Assistant\",\n",
    "    description=\"You help users do research on publicy traded companies and you help users decide if they should buy the stock or not.\",\n",
    "    model=\"gpt-3.5-turbo-1106\",\n",
    "    tools=functions,\n",
    ")\n",
    "assistant"
   ]
  },
  {
   "cell_type": "code",
   "execution_count": null,
   "metadata": {},
   "outputs": [],
   "source": []
  }
 ],
 "metadata": {
  "kernelspec": {
   "display_name": "env",
   "language": "python",
   "name": "python3"
  },
  "language_info": {
   "codemirror_mode": {
    "name": "ipython",
    "version": 3
   },
   "file_extension": ".py",
   "mimetype": "text/x-python",
   "name": "python",
   "nbconvert_exporter": "python",
   "pygments_lexer": "ipython3",
   "version": "3.10.12"
  }
 },
 "nbformat": 4,
 "nbformat_minor": 2
}
